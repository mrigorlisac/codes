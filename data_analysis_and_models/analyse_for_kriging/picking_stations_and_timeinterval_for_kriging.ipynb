{
 "cells": [
  {
   "cell_type": "markdown",
   "metadata": {},
   "source": [
    "### Acquired raw data has blanks and outliers. Plotting every station against time interval in order to pick an interval where all of the stations would have satisfactory number of data points, but also keeping in mind the tradeoff with minimum data length for later analysis. The data is later used in kriging operations for predictions using predictors like latitude, longitude, distance to coast, height etc..."
   ]
  },
  {
   "cell_type": "code",
   "execution_count": null,
   "metadata": {},
   "outputs": [],
   "source": [
    "import geopandas as gpd\n",
    "%matplotlib inline\n",
    "import pandas as pd\n",
    "import numpy as np\n",
    "import matplotlib.pyplot as plt\n",
    "import xarray as xr"
   ]
  },
  {
   "cell_type": "code",
   "execution_count": null,
   "metadata": {},
   "outputs": [],
   "source": [
    "base = '/Users/lisac/Documents/Data_analysis/'\n",
    "fp_csv = base + 'Chile data/cr2_daily_precep_2017.csv'\n",
    "fp_metadata = base + 'Chile data/meta_for_big_data.xlsx'\n",
    "\n",
    "metadata = pd.read_excel(fp_metadata,header=None)\n",
    "metadata.head(7)"
   ]
  },
  {
   "cell_type": "code",
   "execution_count": null,
   "metadata": {},
   "outputs": [],
   "source": []
  },
  {
   "cell_type": "markdown",
   "metadata": {},
   "source": [
    "### Bounding box to extract rainfall stations"
   ]
  },
  {
   "cell_type": "code",
   "execution_count": null,
   "metadata": {},
   "outputs": [],
   "source": [
    "# boolean array\n",
    "box_coords = [bool(True)] + [(float(metadata[i][5]) > -42.) and (float(metadata[i][5]) < -37.) and (float(metadata[i][6]) > -74.) and (float(metadata[i][6]) < -72.) for i in range(1,len(metadata.columns))]"
   ]
  },
  {
   "cell_type": "code",
   "execution_count": null,
   "metadata": {},
   "outputs": [],
   "source": [
    "# translate bolean array to columns number, in the metadata file\n",
    "cols_boxindex = metadata.loc[:3,box_coords].columns"
   ]
  },
  {
   "cell_type": "code",
   "execution_count": null,
   "metadata": {},
   "outputs": [],
   "source": [
    "# read metadata just for the bounding box rainfall stations\n",
    "metadata1 = pd.read_excel(fp_metadata, header=None, usecols=cols_boxindex)"
   ]
  },
  {
   "cell_type": "code",
   "execution_count": null,
   "metadata": {
    "scrolled": true
   },
   "outputs": [],
   "source": [
    "# replacing commas with lambda expression\n",
    "rain_raw = pd.read_csv(fp_csv, header=None, error_bad_lines=False, sep=';', skiprows=0, usecols=cols_boxindex,\n",
    "                       index_col=0, na_values='-9999', low_memory=False)\n",
    "rain_raw = rain_raw.apply(lambda x: x.str.replace(',','.'))"
   ]
  },
  {
   "cell_type": "code",
   "execution_count": null,
   "metadata": {},
   "outputs": [],
   "source": []
  },
  {
   "cell_type": "markdown",
   "metadata": {},
   "source": [
    "### Preparing for plotting"
   ]
  },
  {
   "cell_type": "code",
   "execution_count": null,
   "metadata": {},
   "outputs": [],
   "source": [
    "just_rain_raw = rain_raw.iloc[15:,:].copy()"
   ]
  },
  {
   "cell_type": "code",
   "execution_count": null,
   "metadata": {},
   "outputs": [],
   "source": [
    "just_rain_raw_drop = just_rain_raw.dropna(thresh=1000, axis=1)#.dropna(thresh=80)\n",
    "names = just_rain_raw_drop.columns\n",
    "just_rain_raw_drop.columns = [i for i in range(1,len(just_rain_raw_drop.columns)+1)]\n",
    "just_rain_raw_drop = just_rain_raw_drop.apply(pd.to_numeric)\n",
    "just_rain_raw_drop.index = pd.date_range('1900-01-01', periods=len(just_rain_raw_drop), freq='D')"
   ]
  },
  {
   "cell_type": "code",
   "execution_count": null,
   "metadata": {},
   "outputs": [],
   "source": []
  },
  {
   "cell_type": "markdown",
   "metadata": {},
   "source": [
    "### Plotting of timeseries durations"
   ]
  },
  {
   "cell_type": "code",
   "execution_count": null,
   "metadata": {},
   "outputs": [],
   "source": [
    "just_rain_raw_drop_plotting = just_rain_raw_drop.copy()"
   ]
  },
  {
   "cell_type": "code",
   "execution_count": null,
   "metadata": {},
   "outputs": [],
   "source": [
    "# assigning numbers to y-axis for stations\n",
    "for idx,i in enumerate(range(1,len(just_rain_raw_drop_plotting.columns)+1)):\n",
    "    just_rain_raw_drop_plotting[i][~np.isnan(just_rain_raw_drop_plotting[idx+1])] = i"
   ]
  },
  {
   "cell_type": "code",
   "execution_count": null,
   "metadata": {},
   "outputs": [],
   "source": []
  },
  {
   "cell_type": "code",
   "execution_count": null,
   "metadata": {},
   "outputs": [],
   "source": [
    "just_rain_raw_drop_plotting['1935':].plot(legend=False, style='.', figsize=(20,12), color='k', grid=True) #, title='Station #s and timespan of measurements')\n",
    "xposition = [pd.to_datetime('2014-09-23'), pd.to_datetime('2014-09-24'), pd.to_datetime('2014-09-25')]\n",
    "for xc in xposition:\n",
    "    plt.axvline(x=xc, color='b', linestyle='-')\n",
    "    \n",
    "plt.xlabel('time', size=20)\n",
    "plt.ylabel('station number', size=20)\n",
    "\n",
    "plt.text(x='2014-11-30', y=74, s='picked days', size=16, color='b', bbox=dict(boxstyle=\"round\",\n",
    "                   ec=(1., 0.5, 0.5),\n",
    "                   fc=(1., 0.8, 0.8),\n",
    "                   ))\n",
    "\n",
    "fname = base + 'Chile data/kriging/bottom_catchments/daily_interp/figures/timeseries_durations.png'\n",
    "plt.savefig(fname, dpi=100, facecolor='w', edgecolor='w', orientation='portrait')"
   ]
  },
  {
   "cell_type": "code",
   "execution_count": null,
   "metadata": {},
   "outputs": [],
   "source": []
  }
 ],
 "metadata": {
  "kernelspec": {
   "display_name": "Python 3",
   "language": "python",
   "name": "python3"
  },
  "language_info": {
   "codemirror_mode": {
    "name": "ipython",
    "version": 3
   },
   "file_extension": ".py",
   "mimetype": "text/x-python",
   "name": "python",
   "nbconvert_exporter": "python",
   "pygments_lexer": "ipython3",
   "version": "3.6.4"
  }
 },
 "nbformat": 4,
 "nbformat_minor": 2
}
