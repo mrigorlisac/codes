{
 "cells": [
  {
   "cell_type": "markdown",
   "metadata": {},
   "source": [
    "### Code for testing difference in speed between python version of the code and compiled to C code using Cython. Making use of parallel operations in python. Code is a snippet of Newton-Raphson method for finding the root of any function. Used here because of tricky gamma functions without analytical solution to them."
   ]
  },
  {
   "cell_type": "markdown",
   "metadata": {},
   "source": [
    "### python version"
   ]
  },
  {
   "cell_type": "code",
   "execution_count": null,
   "metadata": {
    "scrolled": true
   },
   "outputs": [],
   "source": [
    "from cython_codes import *\n",
    "from python_codes import *\n",
    "\n",
    "# model parameters\n",
    "x = 1.\n",
    "n = 1.5\n",
    "F = 1.\n",
    "p = 0.5\n",
    "G = 0.5\n",
    "gamma = 1\n",
    "nu = 5\n",
    "b = 1"
   ]
  },
  {
   "cell_type": "code",
   "execution_count": null,
   "metadata": {},
   "outputs": [],
   "source": [
    "# parellelization"
   ]
  },
  {
   "cell_type": "code",
   "execution_count": null,
   "metadata": {},
   "outputs": [],
   "source": [
    "import cProfile, pstats, sys\n",
    "pr = cProfile.Profile()\n",
    "\n",
    "N = int(5e5)\n",
    "\n",
    "pr.enable()\n",
    "\n",
    "# code to test\n",
    "for _ in range(N):\n",
    "    NRiteration_py(x, n, F, p, G, gamma, nu, b)\n",
    "\n",
    "pr.disable()\n",
    "\n",
    "\n",
    "ps = pstats.Stats(pr, stream=sys.stdout)#.sort_stats(0)\n",
    "ps.print_stats()"
   ]
  },
  {
   "cell_type": "code",
   "execution_count": null,
   "metadata": {},
   "outputs": [],
   "source": []
  },
  {
   "cell_type": "code",
   "execution_count": null,
   "metadata": {},
   "outputs": [],
   "source": []
  },
  {
   "cell_type": "markdown",
   "metadata": {},
   "source": [
    "### cython version 1"
   ]
  },
  {
   "cell_type": "code",
   "execution_count": null,
   "metadata": {},
   "outputs": [],
   "source": [
    "from cython_codes import *\n",
    "from python_codes import *\n",
    "\n",
    "\n",
    "# model parameters\n",
    "x = 1.\n",
    "n = 1.5\n",
    "F = 1.\n",
    "p = 0.5\n",
    "G = 0.5\n",
    "gamma = 1\n",
    "nu = 5\n",
    "b = 1"
   ]
  },
  {
   "cell_type": "code",
   "execution_count": null,
   "metadata": {},
   "outputs": [],
   "source": [
    "import cProfile, pstats, sys\n",
    "pr = cProfile.Profile()\n",
    "\n",
    "N = int(5e5)\n",
    "\n",
    "pr.enable()\n",
    "\n",
    "# code to test\n",
    "for _ in range(N):\n",
    "    NRiteration_cy1(x, n, F, p, G, gamma, nu, b)\n",
    "\n",
    "pr.disable()\n",
    "\n",
    "\n",
    "ps = pstats.Stats(pr, stream=sys.stdout)#.sort_stats(2)\n",
    "ps.print_stats()"
   ]
  },
  {
   "cell_type": "code",
   "execution_count": null,
   "metadata": {},
   "outputs": [],
   "source": []
  },
  {
   "cell_type": "markdown",
   "metadata": {},
   "source": [
    "### cython version 2"
   ]
  },
  {
   "cell_type": "code",
   "execution_count": null,
   "metadata": {},
   "outputs": [],
   "source": [
    "from cython_codes import *\n",
    "from python_codes import *\n",
    "\n",
    "x = 1.\n",
    "n = 1.5\n",
    "F = 1.\n",
    "p = 0.5\n",
    "G = 0.5\n",
    "gamma = 1\n",
    "nu = 5\n",
    "b = 1\n",
    "\n",
    "N = int(5e5)\n",
    "\n",
    "pr.enable()\n",
    "\n",
    "# code to test\n",
    "for _ in range(N):\n",
    "    NRiteration_cy2(x, n, F, p, G, gamma, nu, b)\n",
    "\n",
    "pr.disable()\n",
    "\n",
    "\n",
    "ps = pstats.Stats(pr, stream=sys.stdout)#.sort_stats(0)\n",
    "ps.print_stats()"
   ]
  },
  {
   "cell_type": "code",
   "execution_count": null,
   "metadata": {},
   "outputs": [],
   "source": []
  }
 ],
 "metadata": {
  "kernelspec": {
   "display_name": "Python 3",
   "language": "python",
   "name": "python3"
  },
  "language_info": {
   "codemirror_mode": {
    "name": "ipython",
    "version": 3
   },
   "file_extension": ".py",
   "mimetype": "text/x-python",
   "name": "python",
   "nbconvert_exporter": "python",
   "pygments_lexer": "ipython3",
   "version": "3.6.4"
  }
 },
 "nbformat": 4,
 "nbformat_minor": 4
}
