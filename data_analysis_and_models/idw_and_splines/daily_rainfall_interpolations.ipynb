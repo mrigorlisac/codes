{
 "cells": [
  {
   "cell_type": "markdown",
   "metadata": {},
   "source": [
    "## Code for interpolating daily rainfall station data. The daily station data has length of about 30+ years and it is used to make rasters of daily interpolated values using (1) inverse distance weighting method and (2) splines functions.  Thur's Digital elevation map (DEM) is used to incorporate the influence of height on interpolated rainfall fields."
   ]
  },
  {
   "cell_type": "code",
   "execution_count": null,
   "metadata": {},
   "outputs": [],
   "source": []
  },
  {
   "cell_type": "code",
   "execution_count": null,
   "metadata": {},
   "outputs": [],
   "source": [
    "import os\n",
    "import sys\n",
    "import subprocess\n",
    "import pandas as pd\n",
    "import numpy as np\n",
    "%matplotlib inline"
   ]
  },
  {
   "cell_type": "code",
   "execution_count": null,
   "metadata": {},
   "outputs": [],
   "source": [
    "# create GRASS GIS runtime environment\n",
    "gisbase = subprocess.check_output([\"/Applications/GRASS-7.3.app/Contents/MacOS/grass73\", \"--config\", \"path\"])\n",
    "gisbase = gisbase.strip().decode()\n",
    "os.environ['GISBASE'] = gisbase\n",
    "sys.path.append(os.path.join(gisbase, \"etc\", \"python\"))"
   ]
  },
  {
   "cell_type": "code",
   "execution_count": null,
   "metadata": {},
   "outputs": [],
   "source": [
    "import grass.script as gs\n",
    "import grass.script.setup as gsetup"
   ]
  },
  {
   "cell_type": "code",
   "execution_count": null,
   "metadata": {},
   "outputs": [],
   "source": [
    "# set GRASS GIS session data\n",
    "rcfile = gsetup.init(gisbase, \"/Users/lisac/grassdata\", \"Thur_dem25_utm\", \"Practice\")"
   ]
  },
  {
   "cell_type": "code",
   "execution_count": null,
   "metadata": {},
   "outputs": [],
   "source": [
    "gs.message('Current GRASS GIS 7 environment:')\n",
    "print(gs.gisenv())"
   ]
  },
  {
   "cell_type": "markdown",
   "metadata": {},
   "source": [
    "### Arranging the data for daily interpolations"
   ]
  },
  {
   "cell_type": "code",
   "execution_count": null,
   "metadata": {},
   "outputs": [],
   "source": [
    "import glob\n",
    "import pandas as pd\n",
    "\n",
    "rainfall_interp_input_df = pd.DataFrame([])\n",
    "\n",
    "for csv_file in sorted(glob.glob(base+'weather_data/processed/*.csv')):\n",
    "    name = csv_file.split('/')[-1][:-4]\n",
    "    csv_file_temp = pd.read_csv(csv_file, index_col=[0], parse_dates=[0], usecols=[0,2], header=None, names=['time', name], skiprows=1)\n",
    "    rainfall_interp_input_df = pd.concat([rainfall_interp_input_df, csv_file_temp], axis=1)"
   ]
  },
  {
   "cell_type": "code",
   "execution_count": null,
   "metadata": {},
   "outputs": [],
   "source": []
  },
  {
   "cell_type": "markdown",
   "metadata": {},
   "source": [
    "### Employing GrassGIS from python in order to make: (1) data transformation from vectorized format, (2) daily interpolations based on distance weighting and splines functions, (3) resulting daily interpolations in resterized format"
   ]
  },
  {
   "cell_type": "code",
   "execution_count": null,
   "metadata": {
    "scrolled": true
   },
   "outputs": [],
   "source": [
    "i=0\n",
    "\n",
    "# Thur rainfall station data\n",
    "base = '/Users/lisac/Documents/Data_analysis/Thur/'\n",
    "\n",
    "# weather metadata to stick rainfall data to it for each day, and use for interpolation\n",
    "stations = pd.read_csv(base+'interpolations/weather_stations_dem25_utm.txt')\n",
    "\n",
    "# all possible rainfall data\n",
    "rainfall_interp_input_df = pd.read_csv(base+'interpolations/rainfall_stations_input_for_interp.txt', index_col=[0], parse_dates=[0])\n",
    "rainfall_interp_input_df = 0.1*rainfall_interp_input_df #transform to [cm] of rainfall\n",
    "\n",
    "# resulting raster shape, used later for initilizing the array to store yearly values in\n",
    "raster_shape = (2260, 2466)\n",
    "years = np.arange(1970, 1980, 1)\n",
    "\n",
    "for one_year in years:\n",
    "    begin_date = f'{one_year}-01-01'\n",
    "    end_date = f'{one_year}-12-31'\n",
    "\n",
    "\n",
    "    rainfall_one_year = rainfall_interp_input_df[begin_date:end_date].copy()\n",
    "    rainfall_interp_all_days_ar = np.empty((len(rainfall_one_year), *raster_shape))\n",
    "\n",
    "# connection to GrassGIS\n",
    "    for i in range(len(rainfall_one_year)):\n",
    "        print('day number:', i)\n",
    "        stations['rain [mm]'] = rainfall_one_year.iloc[i].values\n",
    "        stations.to_csv('new' + str(1) + '.txt')\n",
    "        gs.run_command('v.in.ascii', overwrite=True, input = 'new1.txt', output='stations_rain_vector',\n",
    "                   separator=',', skip=1, x=2, y=3, z=4, cat=1)\n",
    "        gs.run_command('v.surf.idw', overwrite=True, input = 'stations_rain_vector', output='output',\n",
    "                   column='dbl_3', npoints=12, power=2.0)\n",
    "\n",
    "#  spline interpolation       \n",
    "#        gs.run_command('v.vol.rst', overwrite=True, input = 'stations_rain_vector', cross_input='Chile_90m_dem@PERMANENT',\n",
    "#                cross_output=out_number[i], wcolumn='dbl_3', tension=10., smooth=0.5, segmax=700, npmax=700, npmin=10)\n",
    "        gs.run_command('r.out.ascii', overwrite=True, input = 'output', output='/Users/lisac/Documents/Grass and jupyter stuff/rain_interpolation_cross_ascii.csv')\n",
    "        rain_interpolation_1day = pd.read_csv('/Users/lisac/Documents/Grass and jupyter stuff/rain_interpolation_cross_ascii.csv',\n",
    "                                               header=None, delimiter=' ', skiprows=6)\n",
    "        rain_interpolation_1day.drop(columns=len(rain_interpolation_1day.columns)-1, inplace=True)\n",
    "        rainfall_interp_all_days_ar[i,:,:] = np.array(rain_interpolation_1day)\n",
    "    \n",
    "       \n",
    "\n",
    "\n",
    "    rounded = np.round(rainfall_interp_all_days_ar, decimals=2)\n",
    "    rounded = 100*rounded\n",
    "    rounded_int = rounded.astype('int16')\n",
    "    np.save(base+f'interpolation_idw_dem25_utm_{one_year}', rounded_int)"
   ]
  },
  {
   "cell_type": "code",
   "execution_count": null,
   "metadata": {},
   "outputs": [],
   "source": []
  }
 ],
 "metadata": {
  "kernelspec": {
   "display_name": "Python 3",
   "language": "python",
   "name": "python3"
  },
  "language_info": {
   "codemirror_mode": {
    "name": "ipython",
    "version": 3
   },
   "file_extension": ".py",
   "mimetype": "text/x-python",
   "name": "python",
   "nbconvert_exporter": "python",
   "pygments_lexer": "ipython3",
   "version": "3.6.4"
  }
 },
 "nbformat": 4,
 "nbformat_minor": 2
}
